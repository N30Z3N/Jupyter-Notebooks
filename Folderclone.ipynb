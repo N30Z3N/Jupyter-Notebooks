{
  "nbformat": 4,
  "nbformat_minor": 0,
  "metadata": {
    "colab": {
      "name": "folderclone.ipynb",
      "provenance": [],
      "collapsed_sections": [],
      "authorship_tag": "ABX9TyPIaHkCUmJkkvT1EcmQlM9m",
      "include_colab_link": true
    },
    "kernelspec": {
      "name": "python3",
      "display_name": "Python 3"
    }
  },
  "cells": [
    {
      "cell_type": "markdown",
      "metadata": {
        "id": "view-in-github",
        "colab_type": "text"
      },
      "source": [
        "<a href=\"https://colab.research.google.com/github/Nenokkadine/Jupyter-Notebooks/blob/master/Folderclone.ipynb\" target=\"_parent\"><img src=\"https://colab.research.google.com/assets/colab-badge.svg\" alt=\"Open In Colab\"/></a>"
      ]
    },
    {
      "cell_type": "markdown",
      "metadata": {
        "colab_type": "text",
        "id": "nnK31oX-jC5p"
      },
      "source": [
        "## <img src='https://cdn0.iconfinder.com/data/icons/folder-72/512/clone-folder-file-document-512.png' height=\"46\" alt=\"rclone\"/><i>__Folderclone__</i>\n",
        "<h6> ✧  Break The 750GB Limit</h6>\n"
      ]
    },
    {
      "cell_type": "code",
      "metadata": {
        "colab_type": "code",
        "cellView": "form",
        "id": "G9v5ovLRoGD3",
        "colab": {}
      },
      "source": [
        "#@markdown <h3><b>←</b> Run this cell to install all required modules (Dont run the cell again you will get APT related errors)</h3>\n",
        "!sudo add-apt-repository ppa:deadsnakes/ppa -y\n",
        "!sudo apt update\n",
        "!sudo apt install python3.8\n",
        "!sudo apt-get install python3.8-venv\n",
        "!sudo update-alternatives --install /usr/bin/python3 python3 /usr/bin/python3.8 3\n",
        "!curl https://bootstrap.pypa.io/get-pip.py -o get-pip.py\n",
        "!python3 get-pip.py --force-reinstall\n",
        "!pip3 install -U pip\n",
        "!pip3 install folderclone\n",
        "%cd /content/\n",
        "!git clone https://github.com/Nenokkadine/temp.git\n",
        "\n",
        "!curl https://rclone.org/install.sh | sudo bash\n",
        "###\n",
        "%cd /content/temp\n",
        "!sudo pip3 install -r requirements.txt\n",
        "\n",
        "from IPython.display import HTML, clear_output\n",
        "clear_output()\n",
        "print(\"Successfully Installed\")\n",
        "!python --version"
      ],
      "execution_count": 0,
      "outputs": []
    },
    {
      "cell_type": "code",
      "metadata": {
        "colab_type": "code",
        "cellView": "form",
        "id": "Pa7FjkUvoGD_",
        "colab": {}
      },
      "source": [
        "#@markdown <h3><b>←</b> Upload \"credentials.json\"</h3>\n",
        "\n",
        "from google.colab import files\n",
        "uploaded = files.upload()"
      ],
      "execution_count": 0,
      "outputs": []
    },
    {
      "cell_type": "code",
      "metadata": {
        "colab_type": "code",
        "cellView": "form",
        "id": "5-RNOu0WoGEG",
        "colab": {}
      },
      "source": [
        "#@markdown <h3><b>←</b> Download Generated Service Accounts (if you already have service account please do this step)</h3>\n",
        "projectID = \"saf-gt6-6kpdrd2j3srb7eo-rnv2mu\" #@param {type:\"string\"}\n",
        "!python3 gen_sa_accounts.py --download-keys \"$projectID\""
      ],
      "execution_count": 0,
      "outputs": []
    },
    {
      "cell_type": "code",
      "metadata": {
        "colab_type": "code",
        "cellView": "form",
        "id": "EgBGrsh5oGEL",
        "colab": {}
      },
      "source": [
        "#@markdown <h3><b>←</b> Run this cell to add all SAs to a Team Drive</h3>\n",
        "#@markdown </h5>Team Drive ID (TDid) = https://drive.google.com/drive/folders/<code>all-of-these-letters-numbers-and-symbols </code></h5>\n",
        "#@markdown <h5><i>This may take some time. Be patient!</i></h5> \n",
        "import os\n",
        "TDid = \"0AAkq2z2kWmdRUk9PVA\" #@param {type:\"string\"}\n",
        "!python3 add_to_team_drive.py -d \"$TDid\""
      ],
      "execution_count": 0,
      "outputs": []
    },
    {
      "cell_type": "code",
      "metadata": {
        "colab_type": "code",
        "cellView": "form",
        "id": "AODCCySeoGEP",
        "colab": {}
      },
      "source": [
        "#@markdown <h3><b>←</b> Upload \"token.json\" and Initializing Folderclone after that type exit</h3>\n",
        "#@markdown <h5><i>Please make sure u install the folderclone in your PC and get Authenticated</i></h5> \n",
        "#@markdown <h5><i>Because Token.json will be available in the Project Folder</i></h5> \n",
        "\n",
        "from google.colab import files\n",
        "uploaded = files.upload()\n",
        "!multimanager interactive"
      ],
      "execution_count": 0,
      "outputs": []
    },
    {
      "cell_type": "code",
      "metadata": {
        "colab_type": "code",
        "cellView": "form",
        "id": "gWSQ0l-BoGEU",
        "colab": {}
      },
      "source": [
        "#@markdown <h3><b>←</b> **Final Step -** Running Foldeclone</h3>\n",
        "#@markdown <p>- Add the Source Folder ID and then the Destination Folder ID</p>\n",
        "#@markdown <p>- Note: ***Your source*** *(*`src`*)* ***folder must be publically accessible***</p>\n",
        "#@markdown <p>- Alternative Note: ***Src Team Drive Must be Accesssible to SA's ***</p>\n",
        "\n",
        "#@markdown Folder IDs are found at the end of the URL:\n",
        "#@markdown ![](https://yuju.pw/y/qNvy.png)\n",
        "\n",
        "#@title <h3><b>←</b> Run to clone all folders + files from <code>src</code> to <code>dest</code>\n",
        "#@markdown <i>Paste only the Folder IDs for these values</i>:\n",
        "source = \"0AAkq2z2kWmdRUk9PVA\" #@param {type:\"string\"}\n",
        "destination = \"0AHi3MN-ZCwrqUk9PVA\" #@param {type:\"string\"}\n",
        "\n",
        "!multifolderclone -s \"$source\" -d \"$destination\""
      ],
      "execution_count": 0,
      "outputs": []
    },
    {
      "cell_type": "code",
      "metadata": {
        "colab_type": "code",
        "cellView": "form",
        "id": "n-s4r_G_oGEb",
        "colab": {}
      },
      "source": [
        "#@markdown <h3><b>←</b> Removing Generated Service Accounts</h3>\n",
        "TDId = \"0AAkq2z2kWmdRUk9PVA\" #@param {type:\"string\"}\n",
        "SAPrefix = \"mfc-\" #@param {type:\"string\"}\n",
        "!multimanager remove \"$TDId\" prefix \"$SAPrefix\""
      ],
      "execution_count": 0,
      "outputs": []
    }
  ]
}